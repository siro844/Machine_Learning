{
  "nbformat": 4,
  "nbformat_minor": 0,
  "metadata": {
    "colab": {
      "provenance": [],
      "authorship_tag": "ABX9TyM9VuXdT9Udm2YGzYGj/LGg",
      "include_colab_link": true
    },
    "kernelspec": {
      "name": "python3",
      "display_name": "Python 3"
    },
    "language_info": {
      "name": "python"
    }
  },
  "cells": [
    {
      "cell_type": "markdown",
      "metadata": {
        "id": "view-in-github",
        "colab_type": "text"
      },
      "source": [
        "<a href=\"https://colab.research.google.com/github/siro844/Machine_Learning/blob/main/UpperConfidenceBound.ipynb\" target=\"_parent\"><img src=\"https://colab.research.google.com/assets/colab-badge.svg\" alt=\"Open In Colab\"/></a>"
      ]
    },
    {
      "cell_type": "markdown",
      "source": [
        "Importing the libraries"
      ],
      "metadata": {
        "id": "5W0yHTr4cT9f"
      }
    },
    {
      "cell_type": "code",
      "execution_count": 3,
      "metadata": {
        "id": "vt84nIZ6aqs8"
      },
      "outputs": [],
      "source": [
        "import numpy as np\n",
        "import pandas as pd\n",
        "import matplotlib.pyplot as plt\n"
      ]
    },
    {
      "cell_type": "markdown",
      "source": [
        "Importing the dataset"
      ],
      "metadata": {
        "id": "969xdwaUcd7N"
      }
    },
    {
      "cell_type": "code",
      "source": [
        "dataset=pd.read_csv('Ads_CTR_Optimisation.csv')"
      ],
      "metadata": {
        "id": "kMlykfnlcgMv"
      },
      "execution_count": 4,
      "outputs": []
    },
    {
      "cell_type": "markdown",
      "source": [
        "Implementing UCB"
      ],
      "metadata": {
        "id": "18NLvydycoAH"
      }
    },
    {
      "cell_type": "code",
      "source": [
        "import math\n",
        "N=10000\n",
        "d=10\n",
        "ads_selected=[]\n",
        "number_of_selection=[0]*d\n",
        "sums_of_rewards=[0]*d\n",
        "total_reward=0\n",
        "for n in range(0,N):\n",
        "  ad=0\n",
        "  max_upper_bound=0\n",
        "  for i in range(0,d):\n",
        "    if number_of_selection[i]>0:\n",
        "      avg_reward=sums_of_rewards[i]/number_of_selection[i]\n",
        "      delta_i=math.sqrt(3/2* math.log(n+1)/number_of_selection[i])\n",
        "      upper_bound=avg_reward+delta_i\n",
        "    else:\n",
        "      upper_bound=1e400\n",
        "    if(upper_bound>max_upper_bound):\n",
        "      max_upper_bound=upper_bound\n",
        "      ad=i\n",
        "  ads_selected.append(ad)\n",
        "  number_of_selection[ad]+=1\n",
        "  reward=dataset.values[n,ad]\n",
        "  sums_of_rewards[ad]=sums_of_rewards[ad]+reward\n",
        "  total_reward=total_reward+reward"
      ],
      "metadata": {
        "id": "XkiB7L0bcquy"
      },
      "execution_count": 13,
      "outputs": []
    },
    {
      "cell_type": "markdown",
      "source": [
        "Visualizing"
      ],
      "metadata": {
        "id": "ZGcX6Xqau3E3"
      }
    },
    {
      "cell_type": "code",
      "source": [
        "plt.hist(ads_selected)\n",
        "plt.title('Ads selections')\n",
        "plt.xlabel('Ads')\n",
        "plt.ylabel('No of time each ad was selected')\n",
        "plt.show()"
      ],
      "metadata": {
        "colab": {
          "base_uri": "https://localhost:8080/",
          "height": 472
        },
        "id": "PoxC-5wdu2tT",
        "outputId": "e23d8911-b619-4922-f28d-59e290eb5ea6"
      },
      "execution_count": 14,
      "outputs": [
        {
          "output_type": "display_data",
          "data": {
            "text/plain": [
              "<Figure size 640x480 with 1 Axes>"
            ],
            "image/png": "[encoded data removed]"
          },
          "metadata": {}
        }
      ]
    }
  ]
}