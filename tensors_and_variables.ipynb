{
  "nbformat": 4,
  "nbformat_minor": 0,
  "metadata": {
    "colab": {
      "provenance": [],
      "authorship_tag": "ABX9TyNnE/oKGgoF+6WlmS0veDL0",
      "include_colab_link": true
    },
    "kernelspec": {
      "name": "python3",
      "display_name": "Python 3"
    },
    "language_info": {
      "name": "python"
    }
  },
  "cells": [
    {
      "cell_type": "markdown",
      "metadata": {
        "id": "view-in-github",
        "colab_type": "text"
      },
      "source": [
        "<a href=\"https://colab.research.google.com/github/siro844/Machine_Learning/blob/main/tensors_and_variables.ipynb\" target=\"_parent\"><img src=\"https://colab.research.google.com/assets/colab-badge.svg\" alt=\"Open In Colab\"/></a>"
      ]
    },
    {
      "cell_type": "code",
      "execution_count": null,
      "metadata": {
        "id": "xmKLEZQb9pgu"
      },
      "outputs": [],
      "source": [
        "import tensorflow as tf"
      ]
    },
    {
      "cell_type": "code",
      "source": [
        "tensor_0D=tf.constant(4)"
      ],
      "metadata": {
        "id": "Pvl_MZuOT3tb"
      },
      "execution_count": null,
      "outputs": []
    },
    {
      "cell_type": "code",
      "source": [
        "tensor_1D=tf.constant([2,0,-3])"
      ],
      "metadata": {
        "id": "jBwIQ87DT_Y_"
      },
      "execution_count": null,
      "outputs": []
    },
    {
      "cell_type": "code",
      "source": [
        "tensor_1D"
      ],
      "metadata": {
        "colab": {
          "base_uri": "https://localhost:8080/"
        },
        "id": "NwOIDboYUlk_",
        "outputId": "94415993-f9fe-4296-aa4f-5958929aacf7"
      },
      "execution_count": null,
      "outputs": [
        {
          "output_type": "execute_result",
          "data": {
            "text/plain": [
              "<tf.Tensor: shape=(3,), dtype=int32, numpy=array([ 2,  0, -3], dtype=int32)>"
            ]
          },
          "metadata": {},
          "execution_count": 7
        }
      ]
    },
    {
      "cell_type": "code",
      "source": [
        "tensor_2D=tf.constant(\n",
        "    [\n",
        "        [2,0,-2],\n",
        "        [1,6,5]\n",
        "    ]\n",
        ")"
      ],
      "metadata": {
        "id": "IeM-Ry8rUm8D"
      },
      "execution_count": 8,
      "outputs": []
    },
    {
      "cell_type": "code",
      "source": [
        "tensor_2D"
      ],
      "metadata": {
        "colab": {
          "base_uri": "https://localhost:8080/"
        },
        "id": "32cmqabEbPPV",
        "outputId": "184be879-288f-4237-a27c-5ab35ceb32dd"
      },
      "execution_count": 9,
      "outputs": [
        {
          "output_type": "execute_result",
          "data": {
            "text/plain": [
              "<tf.Tensor: shape=(2, 3), dtype=int32, numpy=\n",
              "array([[ 2,  0, -2],\n",
              "       [ 1,  6,  5]], dtype=int32)>"
            ]
          },
          "metadata": {},
          "execution_count": 9
        }
      ]
    },
    {
      "cell_type": "code",
      "source": [
        "tensor_3D=tf.constant(\n",
        "    [\n",
        "        [\n",
        "            [2,0,-2],\n",
        "            [2,0,-2],\n",
        "            [2,0,-2],\n",
        "        ],\n",
        "        [\n",
        "            [2,0,-2],\n",
        "            [2,0,-2],\n",
        "            [2,0,-2],\n",
        "        ]\n",
        "    ]\n",
        ")"
      ],
      "metadata": {
        "id": "KalCQoHdbQpq"
      },
      "execution_count": 10,
      "outputs": []
    },
    {
      "cell_type": "code",
      "source": [
        "tensor_3D"
      ],
      "metadata": {
        "colab": {
          "base_uri": "https://localhost:8080/"
        },
        "id": "MygGlFa8bepC",
        "outputId": "141043a1-7834-424f-8570-a3b1ce088b6b"
      },
      "execution_count": 11,
      "outputs": [
        {
          "output_type": "execute_result",
          "data": {
            "text/plain": [
              "<tf.Tensor: shape=(2, 3, 3), dtype=int32, numpy=\n",
              "array([[[ 2,  0, -2],\n",
              "        [ 2,  0, -2],\n",
              "        [ 2,  0, -2]],\n",
              "\n",
              "       [[ 2,  0, -2],\n",
              "        [ 2,  0, -2],\n",
              "        [ 2,  0, -2]]], dtype=int32)>"
            ]
          },
          "metadata": {},
          "execution_count": 11
        }
      ]
    },
    {
      "cell_type": "code",
      "source": [
        "tensor_4D=tf.constant(\n",
        "    [\n",
        "         [\n",
        "        [\n",
        "            [2,0,-2],\n",
        "            [2,0,-2],\n",
        "            [2,0,-2],\n",
        "        ],\n",
        "        [\n",
        "            [2,0,-2],\n",
        "            [2,0,-2],\n",
        "            [2,0,-2],\n",
        "        ]\n",
        "    ],\n",
        "         [\n",
        "        [\n",
        "            [2,0,-2],\n",
        "            [2,0,-2],\n",
        "            [2,0,-2],\n",
        "        ],\n",
        "        [\n",
        "            [2,0,-2],\n",
        "            [2,0,-2],\n",
        "            [2,0,-2],\n",
        "        ]\n",
        "    ],\n",
        "    ]\n",
        ")"
      ],
      "metadata": {
        "id": "GeCAKw3-bgPc"
      },
      "execution_count": 12,
      "outputs": []
    },
    {
      "cell_type": "code",
      "source": [
        "tensor_4D"
      ],
      "metadata": {
        "colab": {
          "base_uri": "https://localhost:8080/"
        },
        "id": "B49uL82ocG7L",
        "outputId": "a8eac6cb-22f6-4cd9-a1c8-53a07db7110d"
      },
      "execution_count": 13,
      "outputs": [
        {
          "output_type": "execute_result",
          "data": {
            "text/plain": [
              "<tf.Tensor: shape=(2, 2, 3, 3), dtype=int32, numpy=\n",
              "array([[[[ 2,  0, -2],\n",
              "         [ 2,  0, -2],\n",
              "         [ 2,  0, -2]],\n",
              "\n",
              "        [[ 2,  0, -2],\n",
              "         [ 2,  0, -2],\n",
              "         [ 2,  0, -2]]],\n",
              "\n",
              "\n",
              "       [[[ 2,  0, -2],\n",
              "         [ 2,  0, -2],\n",
              "         [ 2,  0, -2]],\n",
              "\n",
              "        [[ 2,  0, -2],\n",
              "         [ 2,  0, -2],\n",
              "         [ 2,  0, -2]]]], dtype=int32)>"
            ]
          },
          "metadata": {},
          "execution_count": 13
        }
      ]
    },
    {
      "cell_type": "code",
      "source": [
        "tensor_string=tf.constant(\"hello world\")"
      ],
      "metadata": {
        "id": "XLDgq8uJcIb7"
      },
      "execution_count": 14,
      "outputs": []
    },
    {
      "cell_type": "code",
      "source": [
        "tensor_string"
      ],
      "metadata": {
        "colab": {
          "base_uri": "https://localhost:8080/"
        },
        "id": "AHtiN6Z4eVdR",
        "outputId": "9119e900-816b-44b0-c1c5-8cbab36962ca"
      },
      "execution_count": 15,
      "outputs": [
        {
          "output_type": "execute_result",
          "data": {
            "text/plain": [
              "<tf.Tensor: shape=(), dtype=string, numpy=b'hello world'>"
            ]
          },
          "metadata": {},
          "execution_count": 15
        }
      ]
    },
    {
      "cell_type": "code",
      "source": [
        "import numpy as np"
      ],
      "metadata": {
        "id": "VLd_jfTfeWxx"
      },
      "execution_count": 16,
      "outputs": []
    },
    {
      "cell_type": "code",
      "source": [
        "np_array=np.array([1,2,4])"
      ],
      "metadata": {
        "id": "djCLhg1veeSv"
      },
      "execution_count": 17,
      "outputs": []
    },
    {
      "cell_type": "code",
      "source": [
        "converted_tensor=tf.convert_to_tensor(np_array)"
      ],
      "metadata": {
        "id": "dD1vXIzHei3F"
      },
      "execution_count": 18,
      "outputs": []
    },
    {
      "cell_type": "code",
      "source": [],
      "metadata": {
        "id": "87dnTQAKewxr"
      },
      "execution_count": null,
      "outputs": []
    },
    {
      "cell_type": "code",
      "source": [
        "print(converted_tensor)"
      ],
      "metadata": {
        "colab": {
          "base_uri": "https://localhost:8080/"
        },
        "id": "YJeGTGzcerh_",
        "outputId": "47d07a7a-1d62-4035-8cb4-7e84717bcb5c"
      },
      "execution_count": 20,
      "outputs": [
        {
          "output_type": "stream",
          "name": "stdout",
          "text": [
            "tf.Tensor([1 2 4], shape=(3,), dtype=int64)\n"
          ]
        }
      ]
    },
    {
      "cell_type": "code",
      "source": [
        "#Identity Matrix or batch of matrices\n",
        "eye_tensor=tf.eye(\n",
        "    num_rows=3,\n",
        "    num_columns=None,\n",
        "    batch_shape=None,\n",
        "    dtype=tf.dtypes.float32,\n",
        "    name=None\n",
        ")"
      ],
      "metadata": {
        "id": "vl3ItQ30evdh"
      },
      "execution_count": 25,
      "outputs": []
    },
    {
      "cell_type": "code",
      "source": [
        "print(eye_tensor)"
      ],
      "metadata": {
        "colab": {
          "base_uri": "https://localhost:8080/"
        },
        "id": "GFgqWD1nfVdC",
        "outputId": "eec67237-5adc-475f-f8fb-64a5cc91427f"
      },
      "execution_count": 26,
      "outputs": [
        {
          "output_type": "stream",
          "name": "stdout",
          "text": [
            "tf.Tensor(\n",
            "[[1. 0. 0.]\n",
            " [0. 1. 0.]\n",
            " [0. 0. 1.]], shape=(3, 3), dtype=float32)\n"
          ]
        }
      ]
    },
    {
      "cell_type": "code",
      "source": [
        "filled_tensor=tf.fill(\n",
        "    [3,4],5,name=None\n",
        ")"
      ],
      "metadata": {
        "id": "koUbq_BifXzO"
      },
      "execution_count": 27,
      "outputs": []
    },
    {
      "cell_type": "code",
      "source": [
        "filled_tensor"
      ],
      "metadata": {
        "colab": {
          "base_uri": "https://localhost:8080/"
        },
        "id": "LzejsEQvgZ2q",
        "outputId": "c688be6e-1bce-46de-c513-328fa0b39bba"
      },
      "execution_count": 28,
      "outputs": [
        {
          "output_type": "execute_result",
          "data": {
            "text/plain": [
              "<tf.Tensor: shape=(3, 4), dtype=int32, numpy=\n",
              "array([[5, 5, 5, 5],\n",
              "       [5, 5, 5, 5],\n",
              "       [5, 5, 5, 5]], dtype=int32)>"
            ]
          },
          "metadata": {},
          "execution_count": 28
        }
      ]
    },
    {
      "cell_type": "code",
      "source": [
        "one_tensor=tf.ones(\n",
        "    [3,3,3],name=None\n",
        ")"
      ],
      "metadata": {
        "id": "hlVKuZJ3ga7t"
      },
      "execution_count": 29,
      "outputs": []
    },
    {
      "cell_type": "code",
      "source": [
        "one_tensor\n"
      ],
      "metadata": {
        "colab": {
          "base_uri": "https://localhost:8080/"
        },
        "id": "tqSyM35XghKI",
        "outputId": "823cb1d4-f078-4592-d028-70c67d703b36"
      },
      "execution_count": 30,
      "outputs": [
        {
          "output_type": "execute_result",
          "data": {
            "text/plain": [
              "<tf.Tensor: shape=(3, 3, 3), dtype=float32, numpy=\n",
              "array([[[1., 1., 1.],\n",
              "        [1., 1., 1.],\n",
              "        [1., 1., 1.]],\n",
              "\n",
              "       [[1., 1., 1.],\n",
              "        [1., 1., 1.],\n",
              "        [1., 1., 1.]],\n",
              "\n",
              "       [[1., 1., 1.],\n",
              "        [1., 1., 1.],\n",
              "        [1., 1., 1.]]], dtype=float32)>"
            ]
          },
          "metadata": {},
          "execution_count": 30
        }
      ]
    },
    {
      "cell_type": "code",
      "source": [
        "#casting\n",
        "one_tensor=tf.cast(one_tensor,dtype=tf.int32),\n",
        "one_tensor"
      ],
      "metadata": {
        "colab": {
          "base_uri": "https://localhost:8080/"
        },
        "id": "BETCEpINgiR6",
        "outputId": "c3b1935c-f329-4bad-99e0-ab02c6b36cd2"
      },
      "execution_count": 33,
      "outputs": [
        {
          "output_type": "execute_result",
          "data": {
            "text/plain": [
              "(<tf.Tensor: shape=(3, 3, 3), dtype=int32, numpy=\n",
              " array([[[1, 1, 1],\n",
              "         [1, 1, 1],\n",
              "         [1, 1, 1]],\n",
              " \n",
              "        [[1, 1, 1],\n",
              "         [1, 1, 1],\n",
              "         [1, 1, 1]],\n",
              " \n",
              "        [[1, 1, 1],\n",
              "         [1, 1, 1],\n",
              "         [1, 1, 1]]], dtype=int32)>,)"
            ]
          },
          "metadata": {},
          "execution_count": 33
        }
      ]
    },
    {
      "cell_type": "code",
      "source": [
        "ones_like_tensor=tf.ones_like(filled_tensor)"
      ],
      "metadata": {
        "id": "IeuFsnq3gmC7"
      },
      "execution_count": 34,
      "outputs": []
    },
    {
      "cell_type": "code",
      "source": [
        "ones_like_tensor"
      ],
      "metadata": {
        "colab": {
          "base_uri": "https://localhost:8080/"
        },
        "id": "sfoTx7OohPu8",
        "outputId": "e173e9d4-1416-430b-a819-3acec1c63cbf"
      },
      "execution_count": 35,
      "outputs": [
        {
          "output_type": "execute_result",
          "data": {
            "text/plain": [
              "<tf.Tensor: shape=(3, 4), dtype=int32, numpy=\n",
              "array([[1, 1, 1, 1],\n",
              "       [1, 1, 1, 1],\n",
              "       [1, 1, 1, 1]], dtype=int32)>"
            ]
          },
          "metadata": {},
          "execution_count": 35
        }
      ]
    },
    {
      "cell_type": "code",
      "source": [
        "#returns rank\n",
        "tf.rank(ones_like_tensor)"
      ],
      "metadata": {
        "colab": {
          "base_uri": "https://localhost:8080/"
        },
        "id": "emoNTI10hRkl",
        "outputId": "9c069407-a8b4-4246-e84e-d857051468cc"
      },
      "execution_count": 37,
      "outputs": [
        {
          "output_type": "execute_result",
          "data": {
            "text/plain": [
              "<tf.Tensor: shape=(), dtype=int32, numpy=2>"
            ]
          },
          "metadata": {},
          "execution_count": 37
        }
      ]
    },
    {
      "cell_type": "code",
      "source": [],
      "metadata": {
        "id": "T2fkHxDWh3eL"
      },
      "execution_count": null,
      "outputs": []
    }
  ]
}